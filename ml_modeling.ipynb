{
 "cells": [
  {
   "cell_type": "code",
   "execution_count": 1,
   "metadata": {},
   "outputs": [],
   "source": [
    "import pandas as pd\n",
    "from utils.ml_framework import *\n",
    "from sklearn.model_selection import train_test_split\n",
    "from sklearn.metrics import roc_auc_score"
   ]
  },
  {
   "cell_type": "code",
   "execution_count": 2,
   "metadata": {},
   "outputs": [],
   "source": [
    "df = pd.read_excel(\"Data/data_cleaned.xlsx\")"
   ]
  },
  {
   "cell_type": "code",
   "execution_count": 3,
   "metadata": {},
   "outputs": [],
   "source": [
    "df_filled = df.fillna(0)"
   ]
  },
  {
   "cell_type": "code",
   "execution_count": 4,
   "metadata": {},
   "outputs": [],
   "source": [
    "features_1 = ['mean radius', 'mean texture', 'mean perimeter',\n",
    "                'mean area', 'mean smoothness', 'mean compactness', 'mean concavity',\n",
    "                'mean concave points', 'mean symmetry', 'mean fractal dimension',\n",
    "                'radius error', 'texture error', 'perimeter error', 'area error',\n",
    "                'smoothness error', 'compactness error', 'concavity error',\n",
    "                'concave points error', 'symmetry error', 'fractal dimension error',\n",
    "                'worst radius', 'worst texture', 'worst perimeter', 'worst area',\n",
    "                'worst smoothness', 'worst compactness', 'worst concavity',\n",
    "                'worst concave points', 'worst symmetry', 'worst fractal dimension',\n",
    "                    ]\n",
    "\n",
    "\n",
    "tree_gen = TreeModel()\n",
    "svm_gen = SVMModel()\n",
    "knn_gen = KNNModel()\n",
    "\n",
    "\n",
    "X_train, X_test, y_train, y_test = train_test_split(df_filled, df_filled[\"malignant\"], test_size=0.2, random_state=42)"
   ]
  },
  {
   "cell_type": "code",
   "execution_count": 5,
   "metadata": {},
   "outputs": [],
   "source": [
    "mdl_tree = tree_gen.fit(X = X_train, y = y_train, feature_list = features_1, cv=5,)\n",
    "mdl_knn = knn_gen.fit(X = X_train, y = y_train, feature_list = features_1, cv=5,)"
   ]
  },
  {
   "cell_type": "code",
   "execution_count": 6,
   "metadata": {},
   "outputs": [
    {
     "name": "stdout",
     "output_type": "stream",
     "text": [
      "AUC-ROC tree Score: 0.9695381591876843\n",
      "AUC-ROC knn Score: 0.9128725843432689\n"
     ]
    }
   ],
   "source": [
    "y_tree = tree_gen.transform(X_test)[:,1]\n",
    "y_knn = knn_gen.transform(X_test)[:,1]\n",
    "\n",
    "auc_tree = roc_auc_score(y_test, y_tree)\n",
    "auc_knn = roc_auc_score(y_test, y_knn)\n",
    "\n",
    "print(\"AUC-ROC tree Score:\", auc_tree)\n",
    "print(\"AUC-ROC knn Score:\", auc_knn)\n"
   ]
  }
 ],
 "metadata": {
  "kernelspec": {
   "display_name": ".venv",
   "language": "python",
   "name": "python3"
  },
  "language_info": {
   "codemirror_mode": {
    "name": "ipython",
    "version": 3
   },
   "file_extension": ".py",
   "mimetype": "text/x-python",
   "name": "python",
   "nbconvert_exporter": "python",
   "pygments_lexer": "ipython3",
   "version": "3.12.3"
  }
 },
 "nbformat": 4,
 "nbformat_minor": 2
}
